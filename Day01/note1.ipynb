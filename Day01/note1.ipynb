{
 "cells": [
  {
   "cell_type": "code",
   "execution_count": 1,
   "metadata": {
    "collapsed": true
   },
   "outputs": [
    {
     "name": "stdout",
     "output_type": "stream",
     "text": [
      "Hello world\n",
      "Hello world!\n",
      "\n"
     ]
    }
   ],
   "source": [
    "# 11/13/2021\n",
    "import string\n",
    "from tokenize import String\n",
    "\n",
    "print('Hello world\\nHello world!\\n')"
   ]
  },
  {
   "cell_type": "code",
   "execution_count": 2,
   "outputs": [
    {
     "name": "stdout",
     "output_type": "stream",
     "text": [
      "wow\n"
     ]
    }
   ],
   "source": [
    "print('wow')"
   ],
   "metadata": {
    "collapsed": false,
    "pycharm": {
     "name": "#%%\n"
    }
   }
  },
  {
   "cell_type": "code",
   "execution_count": 3,
   "outputs": [
    {
     "name": "stdout",
     "output_type": "stream",
     "text": [
      "hello luke!\n",
      "4\n"
     ]
    }
   ],
   "source": [
    "print('hello ' + input('name?') + '!')\n",
    "print(len(input('name?')))"
   ],
   "metadata": {
    "collapsed": false,
    "pycharm": {
     "name": "#%%\n"
    }
   }
  },
  {
   "cell_type": "code",
   "execution_count": 5,
   "outputs": [
    {
     "name": "stdout",
     "output_type": "stream",
     "text": [
      "1 5\n",
      "1 5\n"
     ]
    }
   ],
   "source": [
    "a = 5\n",
    "b = 1\n",
    "a, b = b, a\n",
    "print(a, b)\n",
    "\n",
    "n = 5\n",
    "m = 1\n",
    "temp = n\n",
    "n = m\n",
    "m = temp\n",
    "print(n, m)\n"
   ],
   "metadata": {
    "collapsed": false,
    "pycharm": {
     "name": "#%%\n"
    }
   }
  },
  {
   "cell_type": "code",
   "execution_count": 7,
   "outputs": [
    {
     "name": "stdout",
     "output_type": "stream",
     "text": [
      "hello there\n",
      "xiaohua\n"
     ]
    }
   ],
   "source": [
    "print('hello there')\n",
    "city = input('which city did you grow up?\\n')\n",
    "pet = input('name of pet?\\n')\n",
    "\n",
    "print(city + pet)"
   ],
   "metadata": {
    "collapsed": false,
    "pycharm": {
     "name": "#%%\n"
    }
   }
  },
  {
   "cell_type": "code",
   "execution_count": 17,
   "outputs": [
    {
     "name": "stdout",
     "output_type": "stream",
     "text": [
      "\n",
      "579\n",
      "1231421.78\n",
      "4\n",
      "12382.232\n"
     ]
    }
   ],
   "source": [
    "print('hello'[5:6])\n",
    "print(123 + 456)\n",
    "print(123_1421.78)\n",
    "print(len('luke'))\n",
    "\n",
    "print(70 + float('12312.232'))"
   ],
   "metadata": {
    "collapsed": false,
    "pycharm": {
     "name": "#%%\n"
    }
   }
  },
  {
   "cell_type": "code",
   "execution_count": 27,
   "outputs": [
    {
     "name": "stdout",
     "output_type": "stream",
     "text": [
      "<class 'float'>\n",
      "name is Luke\n",
      "name is Luke\n",
      "232124.545\n",
      "2.10000\n"
     ]
    }
   ],
   "source": [
    "print(type(6 / 3)) #2.0\n",
    "# ()   **  */  +-\n",
    "name_1 = 'Luke'\n",
    "print(f'name is {name_1}')\n",
    "message = f'name is {name_1}'\n",
    "print(message)\n",
    "\n",
    "print(round(232124.54456,3))\n",
    "print('{:.5f}'.format(2.1))"
   ],
   "metadata": {
    "collapsed": false,
    "pycharm": {
     "name": "#%%\n"
    }
   }
  },
  {
   "cell_type": "code",
   "execution_count": 29,
   "outputs": [
    {
     "name": "stdout",
     "output_type": "stream",
     "text": [
      "odd\n"
     ]
    }
   ],
   "source": [
    "number = 21\n",
    "if number % 2 == 0:\n",
    "    print('even')\n",
    "else:\n",
    "    print('odd')"
   ],
   "metadata": {
    "collapsed": false,
    "pycharm": {
     "name": "#%%\n"
    }
   }
  },
  {
   "cell_type": "code",
   "execution_count": 41,
   "outputs": [
    {
     "name": "stdout",
     "output_type": "stream",
     "text": [
      "2\n",
      "8\n",
      "0\n",
      "you're good\n",
      "you're here for what line1\n",
      "line2\n",
      "line3\n",
      "line1line2line3\n",
      "line1\n",
      "line2\n"
     ]
    }
   ],
   "source": [
    "str_1 = 'fasdfagetbasufhaishgaeaejbiuhfgiuhadsfiaf'\n",
    "\n",
    "count_l = str_1.count('as')\n",
    "print(count_l)\n",
    "print(str_1.count('a'))\n",
    "print(str_1.count('A'))\n",
    "\n",
    "print('you\\'re good'.lower())\n",
    "\n",
    "print('''you're here for what line1\n",
    "line2\n",
    "line3''')\n",
    "\n",
    "print('line1    line2')\n",
    "\n",
    "print('line1')\n",
    "print('line2')"
   ],
   "metadata": {
    "collapsed": false,
    "pycharm": {
     "name": "#%%\n"
    }
   }
  },
  {
   "cell_type": "code",
   "execution_count": 96,
   "outputs": [
    {
     "name": "stdout",
     "output_type": "stream",
     "text": [
      "23.020719473053614\n",
      "1\n"
     ]
    }
   ],
   "source": [
    "#module\n",
    "import random\n",
    "\n",
    "random_float = random.random() * 10 + 20\n",
    "print(random_float)\n",
    "\n",
    "random_side = random.randint(0,1)\n",
    "print(random_side)"
   ],
   "metadata": {
    "collapsed": false,
    "pycharm": {
     "name": "#%% title?\n"
    }
   }
  },
  {
   "cell_type": "code",
   "execution_count": 114,
   "outputs": [
    {
     "name": "stdout",
     "output_type": "stream",
     "text": [
      "Xiaogan\n",
      "[]\n",
      "Wuhan\n",
      "Wuhan\n",
      "Hoboken\n",
      "['Xiaogan', 'Hoboken', 'Wuhan', 'NY']\n",
      "['Xiaogan', 'Hoboken', 'Wuhan', 'NY', 'Changsha', 'NJ']\n",
      "['luke', 'chris', 'Jack', 'Rick']\n",
      "Jack\n",
      "r\n"
     ]
    }
   ],
   "source": [
    "# Day 4: List\n",
    "\n",
    "city_list = [\"Xiaogan\", \"Hoboken\", \"Wuhan\",]\n",
    "print(city_list[0])\n",
    "print(city_list[3:5])\n",
    "print(city_list[2])\n",
    "print(city_list[-1])\n",
    "print(city_list[-2])\n",
    "city_list.append(\"NY\")\n",
    "print(city_list)\n",
    "city_list[len(city_list):] = [\"Changsha\", \"NJ\"]\n",
    "print(city_list)\n",
    "\n",
    "names_str = 'luke chris Jack Rick'\n",
    "names = names_str.split()\n",
    "print(names)\n",
    "print(random.choice(names))\n",
    "print(random.choice(names_str))\n"
   ],
   "metadata": {
    "collapsed": false,
    "pycharm": {
     "name": "#%%\n"
    }
   }
  },
  {
   "cell_type": "code",
   "execution_count": 129,
   "outputs": [
    {
     "name": "stdout",
     "output_type": "stream",
     "text": [
      "1\n",
      "3\n",
      "5\n",
      "7\n",
      "9\n",
      "['apple', 'peach', 'pear', 'wow']\n",
      "applepeachpearwow\n"
     ]
    }
   ],
   "source": [
    "# Day 5: Loop\n",
    "fruits = [\"apple\", \"peach\", \"pear\"]\n",
    "\n",
    "for i in range(1,10,2):\n",
    "    print(i)\n",
    "\n",
    "# sum()  len()  max()  O(n)\n",
    "\n",
    "fruits.append('wow')\n",
    "print(fruits)\n",
    "\n",
    "a = \"\".join(fruits)\n",
    "print(a)\n"
   ],
   "metadata": {
    "collapsed": false,
    "pycharm": {
     "name": "#%%\n"
    }
   }
  },
  {
   "cell_type": "code",
   "execution_count": 136,
   "outputs": [
    {
     "name": "stdout",
     "output_type": "stream",
     "text": [
      "2\n",
      "1 2 3\n"
     ]
    },
    {
     "ename": "TypeError",
     "evalue": "f1() got an unexpected keyword argument 'i'",
     "output_type": "error",
     "traceback": [
      "\u001B[0;31m---------------------------------------------------------------------------\u001B[0m",
      "\u001B[0;31mTypeError\u001B[0m                                 Traceback (most recent call last)",
      "\u001B[0;32m/var/folders/hc/pzkn3x0j72d7yv0schw_dx5c0000gn/T/ipykernel_64974/1552831153.py\u001B[0m in \u001B[0;36m<module>\u001B[0;34m\u001B[0m\n\u001B[1;32m      7\u001B[0m     \u001B[0mprint\u001B[0m\u001B[0;34m(\u001B[0m\u001B[0ma\u001B[0m\u001B[0;34m,\u001B[0m \u001B[0mb\u001B[0m\u001B[0;34m,\u001B[0m \u001B[0mc\u001B[0m\u001B[0;34m)\u001B[0m\u001B[0;34m\u001B[0m\u001B[0;34m\u001B[0m\u001B[0m\n\u001B[1;32m      8\u001B[0m \u001B[0mf1\u001B[0m\u001B[0;34m(\u001B[0m\u001B[0ma\u001B[0m \u001B[0;34m=\u001B[0m \u001B[0;36m1\u001B[0m\u001B[0;34m,\u001B[0m \u001B[0mb\u001B[0m \u001B[0;34m=\u001B[0m \u001B[0;36m2\u001B[0m\u001B[0;34m,\u001B[0m \u001B[0mc\u001B[0m \u001B[0;34m=\u001B[0m \u001B[0;36m3\u001B[0m\u001B[0;34m)\u001B[0m\u001B[0;34m\u001B[0m\u001B[0;34m\u001B[0m\u001B[0m\n\u001B[0;32m----> 9\u001B[0;31m \u001B[0mf1\u001B[0m\u001B[0;34m(\u001B[0m\u001B[0mi\u001B[0m \u001B[0;34m=\u001B[0m \u001B[0;36m2\u001B[0m\u001B[0;34m,\u001B[0m\u001B[0mm\u001B[0m \u001B[0;34m=\u001B[0m \u001B[0;36m2\u001B[0m\u001B[0;34m,\u001B[0m\u001B[0mn\u001B[0m \u001B[0;34m=\u001B[0m \u001B[0;36m3\u001B[0m\u001B[0;34m)\u001B[0m\u001B[0;34m\u001B[0m\u001B[0;34m\u001B[0m\u001B[0m\n\u001B[0m\u001B[1;32m     10\u001B[0m \u001B[0;34m\u001B[0m\u001B[0m\n",
      "\u001B[0;31mTypeError\u001B[0m: f1() got an unexpected keyword argument 'i'"
     ]
    }
   ],
   "source": [
    "# Day 8\n",
    "alphabet = ['a', 'b', 'c', 'd']\n",
    "idx_1 = alphabet.index('c')\n",
    "print(idx_1)\n",
    "\n",
    "def f1(a, b, c):\n",
    "    print(a, b, c)\n",
    "f1(a = 1, b = 2, c = 3)\n",
    "f1(i = 2,m = 2,n = 3)   # error"
   ],
   "metadata": {
    "collapsed": false,
    "pycharm": {
     "name": "#%%\n"
    }
   }
  },
  {
   "cell_type": "code",
   "execution_count": 138,
   "outputs": [
    {
     "name": "stdout",
     "output_type": "stream",
     "text": [
      "running\n",
      "running\n",
      "running\n",
      "running\n",
      "running\n",
      "running\n",
      "running\n",
      "running\n",
      "running\n",
      "running\n",
      "running\n",
      "stopped\n"
     ]
    }
   ],
   "source": [
    "run = True\n",
    "while run:\n",
    "    print('running')\n",
    "    tmp = input('command')\n",
    "    if tmp == 'stop':\n",
    "        run = False\n",
    "print('stopped')\n",
    "# why need to type twice and then print running?"
   ],
   "metadata": {
    "collapsed": false,
    "pycharm": {
     "name": "#%%\n"
    }
   }
  },
  {
   "cell_type": "code",
   "execution_count": 143,
   "outputs": [
    {
     "name": "stdout",
     "output_type": "stream",
     "text": [
      "{'key1': 0, 123: 2}\n",
      "{'key1': 0, 123: 30}\n",
      "{'key1': 0, 123: 30, 'key3': 3}\n",
      "key1\n",
      "0\n",
      "123\n",
      "30\n",
      "key3\n",
      "3\n"
     ]
    }
   ],
   "source": [
    "# Day 9 Dic\n",
    "empty_dic = {}\n",
    "\n",
    "empty_dic[\"key1\"] = 0\n",
    "empty_dic[123] = 2\n",
    "print(empty_dic)\n",
    "empty_dic[123] = 30\n",
    "print(empty_dic)\n",
    "empty_dic[\"key3\"] = 3\n",
    "print(empty_dic)\n",
    "for key in empty_dic:\n",
    "    print(key)\n",
    "    print(empty_dic[key])"
   ],
   "metadata": {
    "collapsed": false,
    "pycharm": {
     "name": "#%%\n"
    }
   }
  },
  {
   "cell_type": "code",
   "execution_count": 149,
   "outputs": [
    {
     "name": "stdout",
     "output_type": "stream",
     "text": [
      "['FIFA', 'NBA@2K']\n",
      "N\n",
      "NJ\n"
     ]
    }
   ],
   "source": [
    "# Dic nesting\n",
    "travel_log = {\n",
    "    \"day1\" : [\"NJ\", \"NY\", \"MA\"],\n",
    "    \"day2\" : [\"XGP\", \"Steam\", \"Epic\"],\n",
    "    \"day3\" : {\"play\" : [\"FIFA\", \"NBA@2K\"]}\n",
    "}\n",
    "print(travel_log[\"day3\"][\"play\"])\n",
    "print(travel_log[\"day1\"][0][0])\n",
    "print(travel_log[\"day1\"][0])"
   ],
   "metadata": {
    "collapsed": false,
    "pycharm": {
     "name": "#%%\n"
    }
   }
  },
  {
   "cell_type": "code",
   "execution_count": 157,
   "outputs": [
    {
     "ename": "IndentationError",
     "evalue": "expected an indented block (3098858457.py, line 16)",
     "output_type": "error",
     "traceback": [
      "\u001B[0;36m  File \u001B[0;32m\"/var/folders/hc/pzkn3x0j72d7yv0schw_dx5c0000gn/T/ipykernel_64974/3098858457.py\"\u001B[0;36m, line \u001B[0;32m16\u001B[0m\n\u001B[0;31m    \u001B[0m\n\u001B[0m    ^\u001B[0m\n\u001B[0;31mIndentationError\u001B[0m\u001B[0;31m:\u001B[0m expected an indented block\n"
     ]
    }
   ],
   "source": [
    "print(\"luke\".title())\n",
    "print(\"wAnG\".title())\n",
    "print(\"faDFSD\".lower())\n",
    "\n",
    "# doc string and function in diction\n",
    "def f2():\n",
    "    \"\"\" This is a doc string for this function\"\"\"\n",
    "    return 'f2 running'\n",
    "new_dic = {\n",
    "    \"1\" : f2\n",
    "}\n",
    "print(new_dic[\"1\"]())"
   ],
   "metadata": {
    "collapsed": false,
    "pycharm": {
     "name": "#%%\n"
    }
   }
  },
  {
   "cell_type": "code",
   "execution_count": 161,
   "outputs": [
    {
     "name": "stdout",
     "output_type": "stream",
     "text": [
      "2\n",
      "2\n"
     ]
    }
   ],
   "source": [
    "# Nmae Space\n",
    "v1 = 1\n",
    "def f3():\n",
    "    global v1\n",
    "    v1 = 2\n",
    "    print(v1)\n",
    "f3()\n",
    "print(v1)\n",
    "\n",
    "PI = 3.1415926\n",
    "\n"
   ],
   "metadata": {
    "collapsed": false,
    "pycharm": {
     "name": "#%%\n"
    }
   }
  },
  {
   "cell_type": "code",
   "execution_count": 162,
   "outputs": [
    {
     "name": "stdout",
     "output_type": "stream",
     "text": [
      "50\n"
     ]
    }
   ],
   "source": [
    "i = 50\n",
    "def foo():\n",
    "    i = 100\n",
    "    return i\n",
    "foo()\n",
    "print(i)\n",
    "\n"
   ],
   "metadata": {
    "collapsed": false,
    "pycharm": {
     "name": "#%%\n"
    }
   }
  }
 ],
 "metadata": {
  "kernelspec": {
   "name": "python3",
   "language": "python",
   "display_name": "Python 3 (ipykernel)"
  },
  "language_info": {
   "codemirror_mode": {
    "name": "ipython",
    "version": 2
   },
   "file_extension": ".py",
   "mimetype": "text/x-python",
   "name": "python",
   "nbconvert_exporter": "python",
   "pygments_lexer": "ipython2",
   "version": "2.7.6"
  }
 },
 "nbformat": 4,
 "nbformat_minor": 0
}