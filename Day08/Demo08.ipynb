{
 "cells": [
  {
   "cell_type": "code",
   "metadata": {
    "collapsed": true,
    "pycharm": {
     "name": "#%%\n"
    }
   },
   "source": [
    "import datetime as dt\n",
    "import random\n",
    "import smtplib\n",
    "\n",
    "now = dt.datetime.now()\n",
    "year = now.year\n",
    "day_of_week = now.weekday()\n",
    "print(day_of_week)\n",
    "\n",
    "date_of_birth = dt.datetime(year=1994, month=8, day=8) #hour has default value\n",
    "\n",
    "print(date_of_birth)\n"
   ],
   "execution_count": 6,
   "outputs": [
    {
     "name": "stdout",
     "output_type": "stream",
     "text": [
      "3\n",
      "1994-08-08 00:00:00\n"
     ]
    }
   ]
  },
  {
   "cell_type": "code",
   "execution_count": null,
   "outputs": [],
   "source": [
    "with open(\"\") as quote_file:\n",
    "    all = quote_file.readlines() # readlines will read all lines as a list, hint will be an int\n",
    "    quote = random.choice(all)"
   ],
   "metadata": {
    "collapsed": false,
    "pycharm": {
     "name": "#%%\n"
    }
   }
  },
  {
   "cell_type": "code",
   "execution_count": null,
   "outputs": [],
   "source": [
    "with smtplib.SMTP(\"smtp.gmail.com\") as connection:\n",
    "    connection.starttls()\n",
    "    connection.login()\n",
    "    connection.sendmail(from_addr=\"\",\n",
    "                        to_addrs=\"\",\n",
    "                        msg=\"\")\n"
   ],
   "metadata": {
    "collapsed": false,
    "pycharm": {
     "name": "#%%\n"
    }
   }
  },
  {
   "cell_type": "code",
   "execution_count": null,
   "outputs": [],
   "source": [
    "import requests\n",
    "\n",
    "URL = \"https://opentdb.com/api.php\""
   ],
   "metadata": {
    "collapsed": false,
    "pycharm": {
     "name": "#%%\n"
    }
   }
  }
 ],
 "metadata": {
  "kernelspec": {
   "display_name": "Python 3",
   "language": "python",
   "name": "python3"
  },
  "language_info": {
   "codemirror_mode": {
    "name": "ipython",
    "version": 2
   },
   "file_extension": ".py",
   "mimetype": "text/x-python",
   "name": "python",
   "nbconvert_exporter": "python",
   "pygments_lexer": "ipython2",
   "version": "2.7.6"
  }
 },
 "nbformat": 4,
 "nbformat_minor": 0
}