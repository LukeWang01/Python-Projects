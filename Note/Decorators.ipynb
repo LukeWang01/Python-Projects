{
 "cells": [
  {
   "cell_type": "code",
   "execution_count": 7,
   "metadata": {
    "collapsed": true
   },
   "outputs": [
    {
     "name": "stdout",
     "output_type": "stream",
     "text": [
      "14\n",
      "36\n"
     ]
    }
   ],
   "source": [
    "def sum_test(n, func):\n",
    "    total = 0\n",
    "    for num in range(1, n + 1):\n",
    "        total += func(num)\n",
    "    return total\n",
    "\n",
    "def square(x):\n",
    "    return x**2\n",
    "\n",
    "def cube(x):\n",
    "    return x * x * x\n",
    "\n",
    "\n",
    "print(sum(3, square))\n",
    "print(sum(3, cube))"
   ]
  },
  {
   "cell_type": "code",
   "execution_count": 3,
   "outputs": [
    {
     "name": "stdout",
     "output_type": "stream",
     "text": [
      "wrapper in\n",
      "and say hi\n"
     ]
    }
   ],
   "source": [
    "def test1(func):\n",
    "    def wrapper():\n",
    "        print('wrapper in')\n",
    "        func()\n",
    "    return wrapper\n",
    "\n",
    "@test1\n",
    "def greet():\n",
    "    print('and say hi')\n",
    "\n",
    "greet()"
   ],
   "metadata": {
    "collapsed": false,
    "pycharm": {
     "name": "#%%\n"
    }
   }
  },
  {
   "cell_type": "code",
   "execution_count": 4,
   "outputs": [
    {
     "name": "stdout",
     "output_type": "stream",
     "text": [
      "HI, I'M TODD.\n",
      "HI, I'D LIKE THE FRIES, WITH A SIDE OF BURGER, PLEASE.\n",
      "LOL\n"
     ]
    }
   ],
   "source": [
    "# This version only accepts one argument\n",
    "# def shout(fn):\n",
    "#     def wrapper(name):\n",
    "#         return fn(name).upper()\n",
    "#     return wrapper\n",
    "\n",
    "# This version works with any number of args\n",
    "def shout(fn):\n",
    "    def wrapper(*args, **kwargs):\n",
    "        return fn(*args, **kwargs).upper()\n",
    "    return wrapper\n",
    "\n",
    "@shout\n",
    "def greet(name):\n",
    "    return f\"Hi, I'm {name}.\"\n",
    "\n",
    "@shout\n",
    "def order(main, side):\n",
    "    return f\"Hi, I'd like the {main}, with a side of {side}, please.\"\n",
    "\n",
    "@shout\n",
    "def lol():\n",
    "    return \"lol\"\n",
    "\n",
    "print(greet(\"todd\"))\n",
    "print(order(side=\"burger\", main=\"fries\"))\n",
    "print(lol())"
   ],
   "metadata": {
    "collapsed": false,
    "pycharm": {
     "name": "#%%\n"
    }
   }
  },
  {
   "cell_type": "code",
   "execution_count": 8,
   "outputs": [
    {
     "ename": "TypeError",
     "evalue": "sum() missing 1 required positional argument: 'func'",
     "output_type": "error",
     "traceback": [
      "\u001B[1;31m---------------------------------------------------------------------------\u001B[0m",
      "\u001B[1;31mTypeError\u001B[0m                                 Traceback (most recent call last)",
      "Input \u001B[1;32mIn [8]\u001B[0m, in \u001B[0;36m<module>\u001B[1;34m\u001B[0m\n\u001B[0;32m     20\u001B[0m \u001B[38;5;129m@speed_test\u001B[39m\n\u001B[0;32m     21\u001B[0m \u001B[38;5;28;01mdef\u001B[39;00m \u001B[38;5;21msum_nums_list\u001B[39m():\n\u001B[0;32m     22\u001B[0m     \u001B[38;5;28;01mreturn\u001B[39;00m \u001B[38;5;28msum\u001B[39m([x \u001B[38;5;28;01mfor\u001B[39;00m x \u001B[38;5;129;01min\u001B[39;00m \u001B[38;5;28mrange\u001B[39m(\u001B[38;5;241m90000000\u001B[39m)])\n\u001B[1;32m---> 25\u001B[0m \u001B[38;5;28mprint\u001B[39m(\u001B[43msum_nums_gen\u001B[49m\u001B[43m(\u001B[49m\u001B[43m)\u001B[49m)\n\u001B[0;32m     26\u001B[0m \u001B[38;5;28mprint\u001B[39m(sum_nums_list())\n",
      "Input \u001B[1;32mIn [8]\u001B[0m, in \u001B[0;36mspeed_test.<locals>.wrapper\u001B[1;34m(*args, **kwargs)\u001B[0m\n\u001B[0;32m      6\u001B[0m \u001B[38;5;129m@wraps\u001B[39m(fn)\n\u001B[0;32m      7\u001B[0m \u001B[38;5;28;01mdef\u001B[39;00m \u001B[38;5;21mwrapper\u001B[39m(\u001B[38;5;241m*\u001B[39margs, \u001B[38;5;241m*\u001B[39m\u001B[38;5;241m*\u001B[39mkwargs):\n\u001B[0;32m      8\u001B[0m     start_time \u001B[38;5;241m=\u001B[39m time()\n\u001B[1;32m----> 9\u001B[0m     result \u001B[38;5;241m=\u001B[39m fn(\u001B[38;5;241m*\u001B[39margs, \u001B[38;5;241m*\u001B[39m\u001B[38;5;241m*\u001B[39mkwargs)\n\u001B[0;32m     10\u001B[0m     end_time \u001B[38;5;241m=\u001B[39m time()\n\u001B[0;32m     11\u001B[0m     \u001B[38;5;28mprint\u001B[39m(\u001B[38;5;124mf\u001B[39m\u001B[38;5;124m\"\u001B[39m\u001B[38;5;124mExecuting \u001B[39m\u001B[38;5;132;01m{\u001B[39;00mfn\u001B[38;5;241m.\u001B[39m\u001B[38;5;18m__name__\u001B[39m\u001B[38;5;132;01m}\u001B[39;00m\u001B[38;5;124m\"\u001B[39m)\n",
      "Input \u001B[1;32mIn [8]\u001B[0m, in \u001B[0;36msum_nums_gen\u001B[1;34m()\u001B[0m\n\u001B[0;32m     16\u001B[0m \u001B[38;5;129m@speed_test\u001B[39m\n\u001B[0;32m     17\u001B[0m \u001B[38;5;28;01mdef\u001B[39;00m \u001B[38;5;21msum_nums_gen\u001B[39m():\n\u001B[1;32m---> 18\u001B[0m     \u001B[38;5;28;01mreturn\u001B[39;00m \u001B[38;5;28;43msum\u001B[39;49m\u001B[43m(\u001B[49m\u001B[43mx\u001B[49m\u001B[43m \u001B[49m\u001B[38;5;28;43;01mfor\u001B[39;49;00m\u001B[43m \u001B[49m\u001B[43mx\u001B[49m\u001B[43m \u001B[49m\u001B[38;5;129;43;01min\u001B[39;49;00m\u001B[43m \u001B[49m\u001B[38;5;28;43mrange\u001B[39;49m\u001B[43m(\u001B[49m\u001B[38;5;241;43m90000000\u001B[39;49m\u001B[43m)\u001B[49m\u001B[43m)\u001B[49m\n",
      "\u001B[1;31mTypeError\u001B[0m: sum() missing 1 required positional argument: 'func'"
     ]
    }
   ],
   "source": [
    "# Let's define a speed_test decorator\n",
    "from functools import wraps\n",
    "from time import time\n",
    "\n",
    "def speed_test(fn):\n",
    "    @wraps(fn)\n",
    "    def wrapper(*args, **kwargs):\n",
    "        start_time = time()\n",
    "        result = fn(*args, **kwargs)\n",
    "        end_time = time()\n",
    "        print(f\"Executing {fn.__name__}\")\n",
    "        print(f\"Time Elapsed: {end_time - start_time}\")\n",
    "        return result\n",
    "    return wrapper\n",
    "\n",
    "@speed_test\n",
    "def sum_nums_gen():\n",
    "    return sum(x for x in range(90000000))\n",
    "\n",
    "@speed_test\n",
    "def sum_nums_list():\n",
    "    return sum([x for x in range(90000000)])\n",
    "\n",
    "\n",
    "print(sum_nums_gen())\n",
    "print(sum_nums_list())\n"
   ],
   "metadata": {
    "collapsed": false,
    "pycharm": {
     "name": "#%%\n"
    }
   }
  },
  {
   "cell_type": "code",
   "execution_count": 9,
   "outputs": [
    {
     "name": "stdout",
     "output_type": "stream",
     "text": [
      "0.25\n"
     ]
    }
   ],
   "source": [
    "def enforce(*types):\n",
    "    def decorator(f):\n",
    "        def new_func(*args, **kwargs):\n",
    "            #convert args into something mutable\n",
    "            newargs = []\n",
    "            for (a, t) in zip(args, types):\n",
    "                newargs.append( t(a)) #  type(a)    str(a)   or int(a)\n",
    "            return f(*newargs, **kwargs)\n",
    "        return new_func\n",
    "    return decorator\n",
    "\n",
    "@enforce(str, int)\n",
    "def repeat_msg(msg, times):\n",
    "    for time in range(times):\n",
    "        print(msg)\n",
    "\n",
    "@enforce(float, float)\n",
    "def divide(a,b):\n",
    "    print(a/b)\n",
    "# repeat_msg(\"hello\", '5')\n",
    "divide('1', '4')\n",
    "\n"
   ],
   "metadata": {
    "collapsed": false,
    "pycharm": {
     "name": "#%%\n"
    }
   }
  },
  {
   "cell_type": "code",
   "execution_count": null,
   "outputs": [],
   "source": [
    "# NOT WORKING CODE!\n",
    "# JUST FOR DEMO PURPOSES!\n",
    "\n",
    "# # When we write:\n",
    "# @decorator\n",
    "# def func(*args, **kwargs):\n",
    "#     pass\n",
    "# # We're really doing:\n",
    "# func = decorator(func)\n",
    "#\n",
    "#\n",
    "# # When we write:\n",
    "# @decorator_with_args(arg)\n",
    "# def func(*args, **kwargs):\n",
    "#     pass\n",
    "# # We're really doing:\n",
    "# func = decorator_with_args(arg)(func)"
   ],
   "metadata": {
    "collapsed": false,
    "pycharm": {
     "name": "#%%\n"
    }
   }
  },
  {
   "cell_type": "code",
   "execution_count": null,
   "outputs": [],
   "source": [],
   "metadata": {
    "collapsed": false,
    "pycharm": {
     "name": "#%%\n"
    }
   }
  }
 ],
 "metadata": {
  "kernelspec": {
   "display_name": "Python 3",
   "language": "python",
   "name": "python3"
  },
  "language_info": {
   "codemirror_mode": {
    "name": "ipython",
    "version": 2
   },
   "file_extension": ".py",
   "mimetype": "text/x-python",
   "name": "python",
   "nbconvert_exporter": "python",
   "pygments_lexer": "ipython2",
   "version": "2.7.6"
  }
 },
 "nbformat": 4,
 "nbformat_minor": 0
}