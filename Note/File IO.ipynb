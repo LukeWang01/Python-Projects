{
 "cells": [
  {
   "cell_type": "code",
   "execution_count": null,
   "metadata": {
    "collapsed": true
   },
   "outputs": [],
   "source": [
    "# To write to a file, first open it in \"w\" mode\n",
    "with open(\"haiku.txt\", \"w\") as file:\n",
    "    file.write(\"Here's one more haiku\\n\")\n",
    "    file.write(\"What about the older one?\\n\")\n",
    "    file.write(\"Let's go check it out\")\n",
    "\n",
    "# You can also write to files that don't yet exist\n",
    "with open(\"lol.txt\", \"w\") as file:\n",
    "    file.write(\"haha\" * 10000)"
   ]
  },
  {
   "cell_type": "code",
   "execution_count": null,
   "outputs": [],
   "source": [
    "# w - writes and erases existing contents\n",
    "with open(\"haiku.txt\", \"w\") as file:\n",
    "    file.write(\"Here's one more haiku\\n\")\n",
    "    file.write(\"What about the older one?\\n\")\n",
    "    file.write(\"Let's go check it out\")\n",
    "\n",
    "# a - appends to end, preserving original contents\n",
    "# NO CONTROL OVER CURSOR\n",
    "with open(\"haiku.txt\", \"a\") as file:\n",
    "    file.seek(0)\n",
    "    file.write(\":)\\n\")\n",
    "\n",
    "# r+ read and write\n",
    "with open(\"haiku.txt\", \"r+\") as file:\n",
    "    file.write(\":)\")\n",
    "    file.seek(10)\n",
    "    file.write(\":(\")\n",
    "\n",
    "# r+ will not create a file if it doesn't exist\n",
    "with open(\"hello.txt\", \"a\") as file:\n",
    "    file.write(\"HELLO!!!\")"
   ],
   "metadata": {
    "collapsed": false,
    "pycharm": {
     "name": "#%%\n"
    }
   }
  },
  {
   "cell_type": "code",
   "execution_count": null,
   "outputs": [],
   "source": [
    "def find_and_replace(file_name, old_word, new_word):\n",
    "    with open(file_name, \"r+\") as file:\n",
    "        text = file.read()\n",
    "        new_text = text.replace(old_word, new_word)\n",
    "        file.seek(0)\n",
    "        file.write(new_text)\n",
    "        file.truncate()"
   ],
   "metadata": {
    "collapsed": false,
    "pycharm": {
     "name": "#%%\n"
    }
   }
  },
  {
   "cell_type": "code",
   "execution_count": null,
   "outputs": [],
   "source": [
    "'''\n",
    "copy_and_reverse('story.txt', 'story_reversed.txt') # None\n",
    "# expect the contents of story_reversed.txt to be the reverse of the contents of story.txt\n",
    "'''\n",
    "\n",
    "def copy_and_reverse(a, b):\n",
    "    with open(a) as f:\n",
    "        tmp = f.read()\n",
    "\n",
    "    with open(b, 'w') as f:\n",
    "        f.write(tmp[::-1])"
   ],
   "metadata": {
    "collapsed": false,
    "pycharm": {
     "name": "#%%\n"
    }
   }
  }
 ],
 "metadata": {
  "kernelspec": {
   "display_name": "Python 3",
   "language": "python",
   "name": "python3"
  },
  "language_info": {
   "codemirror_mode": {
    "name": "ipython",
    "version": 2
   },
   "file_extension": ".py",
   "mimetype": "text/x-python",
   "name": "python",
   "nbconvert_exporter": "python",
   "pygments_lexer": "ipython2",
   "version": "2.7.6"
  }
 },
 "nbformat": 4,
 "nbformat_minor": 0
}