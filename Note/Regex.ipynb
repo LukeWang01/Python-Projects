{
 "cells": [
  {
   "cell_type": "code",
   "execution_count": null,
   "metadata": {
    "collapsed": true
   },
   "outputs": [],
   "source": [
    "# Regular Expressions\n",
    "\n",
    "# https://pythex.org/\n",
    "# https://www.rexegg.com/regex-quickstart.html"
   ]
  },
  {
   "cell_type": "code",
   "execution_count": null,
   "outputs": [],
   "source": [
    "# \\w{9}\n",
    "\n",
    "\n",
    "# \\d{3}-\\d{3}=\\d{4}    match the phone numbers\n",
    "\n",
    "# \\w{5,6}  5 to 6 words\n",
    "\n",
    "\n",
    "# https://rubular.com/"
   ],
   "metadata": {
    "collapsed": false,
    "pycharm": {
     "name": "#%%\n"
    }
   }
  },
  {
   "cell_type": "code",
   "execution_count": 2,
   "outputs": [
    {
     "name": "stdout",
     "output_type": "stream",
     "text": [
      "None\n"
     ]
    }
   ],
   "source": [
    "import re\n",
    "\n",
    "pattern = re.compile(r'\\d{3} \\d{3}-\\d{4}')\n",
    "res = pattern.search('1242142131513')  # only return the first match\n",
    "print(res)"
   ],
   "metadata": {
    "collapsed": false,
    "pycharm": {
     "name": "#%%\n"
    }
   }
  },
  {
   "cell_type": "code",
   "execution_count": 4,
   "outputs": [
    {
     "name": "stdout",
     "output_type": "stream",
     "text": [
      "['201 680-1401']\n"
     ]
    }
   ],
   "source": [
    "res2 = pattern.findall('  2131232135fgsfdg  201 680-1401 ')\n",
    "print(res2)"
   ],
   "metadata": {
    "collapsed": false,
    "pycharm": {
     "name": "#%%\n"
    }
   }
  },
  {
   "cell_type": "code",
   "execution_count": 8,
   "outputs": [
    {
     "name": "stdout",
     "output_type": "stream",
     "text": [
      "201-680-1401\n",
      "None\n",
      "['545-546-5469']\n"
     ]
    }
   ],
   "source": [
    "def extract_phone(input):\n",
    "    phone_regex =re.compile(r'\\b\\d{3}-\\d{3}-\\d{4}\\b')\n",
    "    match = phone_regex.search(input)\n",
    "    if match:\n",
    "        return match.group()\n",
    "    return None\n",
    "\n",
    "\n",
    "def extract_all_phones(input):\n",
    "    phone_regex =re.compile(r'\\b\\d{3}-\\d{3}-\\d{4}\\b')\n",
    "    match = phone_regex.findall(input)\n",
    "    return match\n",
    "\n",
    "\n",
    "\n",
    "print(extract_phone('201-680-1401'))\n",
    "print(extract_phone('455203121-680-14011456'))\n",
    "\n",
    "\n",
    "print(extract_all_phones('123-5656-5464             545-546-5469  54465-4654'))"
   ],
   "metadata": {
    "collapsed": false,
    "pycharm": {
     "name": "#%%\n"
    }
   }
  },
  {
   "cell_type": "code",
   "execution_count": null,
   "outputs": [],
   "source": [
    "def is_valid_email(input):\n",
    "    email_regex = re.compile(r'[a-zA-z0-9_]@')\n"
   ],
   "metadata": {
    "collapsed": false,
    "pycharm": {
     "name": "#%%\n"
    }
   }
  },
  {
   "cell_type": "code",
   "execution_count": null,
   "outputs": [],
   "source": [
    "def is_vaild_time(input):\n",
    "    pattern = re.compile(r'^\\d\\d?:\\d\\d$')\n",
    "    match = pattern.findall(input)\n",
    "    return match\n"
   ],
   "metadata": {
    "collapsed": false,
    "pycharm": {
     "name": "#%%\n"
    }
   }
  },
  {
   "cell_type": "code",
   "execution_count": 16,
   "outputs": [
    {
     "name": "stdout",
     "output_type": "stream",
     "text": [
      "('https://www.lukewang.com/wang/case/first', ('https', 'www.lukewang.com', '/wang/case/first'))\n"
     ]
    }
   ],
   "source": [
    "def is_vaild_url(input):\n",
    "    pattern = re.compile(r'(https?)://(www\\.[A-za-z-]{2,256}\\.[a-z]{2,6})([-a-zA-Z0-9@:%_+.~#?&/=]*)')\n",
    "    match = pattern.search(input)\n",
    "    if match:\n",
    "        res= match.group()\n",
    "        res2 = match.groups()\n",
    "        return res, res2\n",
    "    else:\n",
    "        return None\n",
    "    # if match:\n",
    "    #     return match\n",
    "    # else:\n",
    "    #     return None\n",
    "\n",
    "print(is_vaild_url('https://www.lukewang.com/wang/case/first'))"
   ],
   "metadata": {
    "collapsed": false,
    "pycharm": {
     "name": "#%%\n"
    }
   }
  },
  {
   "cell_type": "code",
   "execution_count": 22,
   "outputs": [
    {
     "name": "stdout",
     "output_type": "stream",
     "text": [
      "('wangzilu9488@gmail.com', ('wangzilu9488', 'gmail', 'com'))\n"
     ]
    }
   ],
   "source": [
    "def is_email(input):\n",
    "    pattern = re.compile(r\"\"\"\n",
    "    ^([a-z0-9_\\.-]+)         #user name of email\n",
    "    @\n",
    "    ([0-9a-z\\.-]+)\n",
    "    \\.\n",
    "    ([a-z\\.]{2,6})$\n",
    "\n",
    "    \"\"\", re.VERBOSE | re.IGNORECASE)  # or re.X\n",
    "\n",
    "    match = pattern.search(input)\n",
    "    if match:\n",
    "        return match.group(), match.groups()\n",
    "    else:\n",
    "        None\n",
    "\n",
    "print(is_email('wangzilu9488@gmail.com'))"
   ],
   "metadata": {
    "collapsed": false,
    "pycharm": {
     "name": "#%%\n"
    }
   }
  },
  {
   "cell_type": "code",
   "execution_count": 23,
   "outputs": [],
   "source": [
    "# replace:\n",
    "\n",
    "text = \"Last night Mrs. Daisy and Mr. white murdered Ms. Chow\"\n",
    "\n",
    "pattern = re.compile(r'(Mr.|Mrs.|Ms.) ([a-z])[a-z]+', re.I)\n",
    "result = pattern.sub(\"\\g<1> \\g<2>\", text)\n",
    "print(result)\n",
    "\n"
   ],
   "metadata": {
    "collapsed": false,
    "pycharm": {
     "name": "#%%\n"
    }
   }
  },
  {
   "cell_type": "code",
   "execution_count": null,
   "outputs": [],
   "source": [
    "def censor(input):\n",
    "    pattern = re.compile(r'\\bfrack\\w*\\b', re.IGNORECASE)\n",
    "    return pattern.sub(\"CENSORED\", input)\n"
   ],
   "metadata": {
    "collapsed": false,
    "pycharm": {
     "name": "#%%\n"
    }
   }
  },
  {
   "cell_type": "code",
   "execution_count": null,
   "outputs": [],
   "source": [
    "def parse_date(input):\n",
    "    pattern = re.compile(\"^(\\d\\d)[,/.](\\d\\d)[,/.](\\d{4})$\")\n",
    "    match = pattern.search(input)\n",
    "    if match:\n",
    "        return {\n",
    "            \"d\": match.group(1),   # group(0) is the whole match\n",
    "            \"m\": match.group(2),\n",
    "            \"y\": match.group(3),\n",
    "        }\n",
    "    return None"
   ],
   "metadata": {
    "collapsed": false,
    "pycharm": {
     "name": "#%%\n"
    }
   }
  },
  {
   "cell_type": "code",
   "execution_count": null,
   "outputs": [],
   "source": [
    "def parse_bytes(input):\n",
    "    binary_regex = re.compile(r'\\b[10]{8}\\b')\n",
    "    results = binary_regex.findall(input)\n",
    "    return results"
   ],
   "metadata": {
    "collapsed": false,
    "pycharm": {
     "name": "#%%\n"
    }
   }
  },
  {
   "cell_type": "code",
   "execution_count": 24,
   "outputs": [
    {
     "name": "stdout",
     "output_type": "stream",
     "text": [
      "['1978 - Tales of the City', '1980 - More Tales of the City', '1982 - Further Tales of the City', '1984 - Babycakes', '1987 - Significant Others', '1989 - Sure of You', '2007 - Michael Tolliver Lives', '2010 - Mary Ann in Autumn', '2014 - The Days of Anna Madrigal']\n"
     ]
    }
   ],
   "source": [
    "\n",
    "titles = [\n",
    "    \"Significant Others (1987)\",\n",
    "    \"Tales of the City (1978)\",\n",
    "    \"The Days of Anna Madrigal (2014)\",\n",
    "    \"Mary Ann in Autumn (2010)\",\n",
    "    \"Further Tales of the City (1982)\",\n",
    "    \"Babycakes (1984)\",\n",
    "    \"More Tales of the City (1980)\",\n",
    "    \"Sure of You (1989)\",\n",
    "    \"Michael Tolliver Lives (2007)\"\n",
    "]\n",
    "titles.sort()\n",
    "fixed_titles = []\n",
    "\n",
    "pattern = re.compile(r'(?P<title>^[\\w ]+) \\((?P<date>\\d{4})\\)')\n",
    "for book in titles:\n",
    "    # result = pattern.sub(\"\\g<2> - \\g<1>\", book)\n",
    "    result = pattern.sub(\"\\g<date> - \\g<title>\", book)\n",
    "\n",
    "    fixed_titles.append(result)\n",
    "fixed_titles.sort()\n",
    "print(fixed_titles)\n",
    "\n"
   ],
   "metadata": {
    "collapsed": false,
    "pycharm": {
     "name": "#%%\n"
    }
   }
  },
  {
   "cell_type": "code",
   "execution_count": null,
   "outputs": [],
   "source": [],
   "metadata": {
    "collapsed": false,
    "pycharm": {
     "name": "#%%\n"
    }
   }
  }
 ],
 "metadata": {
  "kernelspec": {
   "display_name": "Python 3",
   "language": "python",
   "name": "python3"
  },
  "language_info": {
   "codemirror_mode": {
    "name": "ipython",
    "version": 2
   },
   "file_extension": ".py",
   "mimetype": "text/x-python",
   "name": "python",
   "nbconvert_exporter": "python",
   "pygments_lexer": "ipython2",
   "version": "2.7.6"
  }
 },
 "nbformat": 4,
 "nbformat_minor": 0
}