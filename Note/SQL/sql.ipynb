{
 "cells": [
  {
   "cell_type": "code",
   "execution_count": 1,
   "metadata": {
    "collapsed": true
   },
   "outputs": [],
   "source": [
    "# Python + SQL:\n",
    "\n",
    "import sqlite3\n",
    "\n"
   ]
  },
  {
   "cell_type": "code",
   "execution_count": 3,
   "outputs": [
    {
     "ename": "OperationalError",
     "evalue": "table friends already exists",
     "output_type": "error",
     "traceback": [
      "\u001B[1;31m---------------------------------------------------------------------------\u001B[0m",
      "\u001B[1;31mOperationalError\u001B[0m                          Traceback (most recent call last)",
      "Input \u001B[1;32mIn [3]\u001B[0m, in \u001B[0;36m<module>\u001B[1;34m\u001B[0m\n\u001B[0;32m      5\u001B[0m c \u001B[38;5;241m=\u001B[39m conn\u001B[38;5;241m.\u001B[39mcursor()\n\u001B[0;32m      8\u001B[0m \u001B[38;5;66;03m# execute some sql\u001B[39;00m\n\u001B[1;32m----> 9\u001B[0m \u001B[43mc\u001B[49m\u001B[38;5;241;43m.\u001B[39;49m\u001B[43mexecute\u001B[49m\u001B[43m(\u001B[49m\u001B[38;5;124;43m\"\u001B[39;49m\u001B[38;5;124;43mCREATE TABLE friends (first_name TEXT, last_name TEXT, closeness INTEGER);\u001B[39;49m\u001B[38;5;124;43m\"\u001B[39;49m\u001B[43m)\u001B[49m\n\u001B[0;32m     11\u001B[0m \u001B[38;5;66;03m# insert_query = '''INSERT INTO friends\u001B[39;00m\n\u001B[0;32m     12\u001B[0m \u001B[38;5;66;03m# \t\t\t\t\tVALUES ('Merriwether', 'Lewis', 7)'''\u001B[39;00m\n\u001B[0;32m     13\u001B[0m \n\u001B[1;32m   (...)\u001B[0m\n\u001B[0;32m     22\u001B[0m \u001B[38;5;66;03m# query = f\"INSERT INTO friends (first_name) VALUES (?)\"\u001B[39;00m\n\u001B[0;32m     23\u001B[0m \u001B[38;5;66;03m# c.execute(query, (form_first,))\u001B[39;00m\n\u001B[0;32m     25\u001B[0m data \u001B[38;5;241m=\u001B[39m (\u001B[38;5;124m\"\u001B[39m\u001B[38;5;124mSteve\u001B[39m\u001B[38;5;124m\"\u001B[39m, \u001B[38;5;124m\"\u001B[39m\u001B[38;5;124mIrwin\u001B[39m\u001B[38;5;124m\"\u001B[39m, \u001B[38;5;241m9\u001B[39m)\n",
      "\u001B[1;31mOperationalError\u001B[0m: table friends already exists"
     ]
    }
   ],
   "source": [
    "import sqlite3\n",
    "conn = sqlite3.connect(\"my_friends.db\")\n",
    "# create cursor object\n",
    "\n",
    "c = conn.cursor()\n",
    "\n",
    "\n",
    "# execute some sql\n",
    "c.execute(\"CREATE TABLE friends (first_name TEXT, last_name TEXT, closeness INTEGER);\")\n",
    "\n",
    "# insert_query = '''INSERT INTO friends\n",
    "# \t\t\t\t\tVALUES ('Merriwether', 'Lewis', 7)'''\n",
    "\n",
    "# BAD! DO NOT DO THIS!\n",
    "# form_first = \"Dana\"\n",
    "# query = f\"INSERT INTO friends (first_name) VALUES ('{form_first}')\"\n",
    "\n",
    "\n",
    "\n",
    "# BETTER WAY!\n",
    "# form_first = \"Mary-Todd\"\n",
    "# query = f\"INSERT INTO friends (first_name) VALUES (?)\"\n",
    "# c.execute(query, (form_first,))\n",
    "\n",
    "data = (\"Steve\", \"Irwin\", 9)\n",
    "query = \"INSERT INTO friends VALUES (?,?,?)\"\n",
    "c.execute(query, data)\n",
    "# commit changes\n",
    "conn.commit()\n",
    "conn.close()\n"
   ],
   "metadata": {
    "collapsed": false,
    "pycharm": {
     "name": "#%%\n"
    }
   }
  },
  {
   "cell_type": "code",
   "execution_count": 4,
   "outputs": [
    {
     "name": "stdout",
     "output_type": "stream",
     "text": [
      "6.0\n"
     ]
    }
   ],
   "source": [
    "import sqlite3\n",
    "conn = sqlite3.connect(\"my_friends.db\")\n",
    "# create cursor object\n",
    "c = conn.cursor()\n",
    "\n",
    "people = [\n",
    "    (\"Roald\",\"Amundsen\", 5),\n",
    "    (\"Rosa\", \"Parks\", 8),\n",
    "    (\"Henry\", \"Hudson\", 7),\n",
    "    (\"Neil\",\"Armstrong\", 7),\n",
    "    (\"Daniel\", \"Boone\", 3)]\n",
    "\n",
    "# for person in people:\n",
    "# \tinsert that one person\n",
    "average = 0\n",
    "for person in people:\n",
    "    c.execute(\"INSERT INTO friends VALUES (?,?,?)\", person)\n",
    "    average += person[2]\n",
    "print(average/len(people))\n",
    "\n",
    "# Insert all at once\n",
    "# c.executemany(\"INSERT INTO friends VALUES (?,?,?)\", people)\n",
    "\n",
    "\n",
    "\n",
    "\n",
    "# commit changes\n",
    "conn.commit()\n",
    "conn.close()"
   ],
   "metadata": {
    "collapsed": false,
    "pycharm": {
     "name": "#%%\n"
    }
   }
  },
  {
   "cell_type": "code",
   "execution_count": 5,
   "outputs": [
    {
     "name": "stdout",
     "output_type": "stream",
     "text": [
      "[('Henry', 'Hudson', 7), ('Neil', 'Armstrong', 7), ('Rosa', 'Parks', 8), ('Steve', 'Irwin', 9)]\n"
     ]
    }
   ],
   "source": [
    "import sqlite3\n",
    "conn = sqlite3.connect(\"my_friends.db\")\n",
    "# create cursor object\n",
    "c = conn.cursor()\n",
    "# c.execute(\"SELECT * FROM friends WHERE first_name IS 'Rosa'\")\n",
    "c.execute(\"SELECT * FROM friends WHERE closeness > 5 ORDER BY closeness\")\n",
    "\n",
    "\n",
    "# Iterate over cursor\n",
    "# for result in c:\n",
    "# \tprint(result)\n",
    "\n",
    "# Fetch One Result\n",
    "# print(c.fetchone())\n",
    "\n",
    "# Fetch all results as list\n",
    "print(c.fetchall())\n",
    "\n",
    "\n",
    "# commit changes\n",
    "conn.commit()\n",
    "conn.close()\n"
   ],
   "metadata": {
    "collapsed": false,
    "pycharm": {
     "name": "#%%\n"
    }
   }
  },
  {
   "cell_type": "code",
   "execution_count": 6,
   "outputs": [
    {
     "ename": "OperationalError",
     "evalue": "no such table: users",
     "output_type": "error",
     "traceback": [
      "\u001B[1;31m---------------------------------------------------------------------------\u001B[0m",
      "\u001B[1;31mOperationalError\u001B[0m                          Traceback (most recent call last)",
      "Input \u001B[1;32mIn [6]\u001B[0m, in \u001B[0;36m<module>\u001B[1;34m\u001B[0m\n\u001B[0;32m      9\u001B[0m \u001B[38;5;66;03m# THE BAD WAY!\u001B[39;00m\n\u001B[0;32m     10\u001B[0m \u001B[38;5;66;03m# query = f\"SELECT * FROM users WHERE username='{u}' AND password = '{p}'\"\u001B[39;00m\n\u001B[0;32m     11\u001B[0m \n\u001B[0;32m     12\u001B[0m \u001B[38;5;66;03m# THE MUCH SAFER WAY\u001B[39;00m\n\u001B[0;32m     13\u001B[0m query \u001B[38;5;241m=\u001B[39m \u001B[38;5;124mf\u001B[39m\u001B[38;5;124m\"\u001B[39m\u001B[38;5;124mSELECT * FROM users WHERE username=? AND password =?\u001B[39m\u001B[38;5;124m\"\u001B[39m\n\u001B[1;32m---> 14\u001B[0m \u001B[43mc\u001B[49m\u001B[38;5;241;43m.\u001B[39;49m\u001B[43mexecute\u001B[49m\u001B[43m(\u001B[49m\u001B[43mquery\u001B[49m\u001B[43m,\u001B[49m\u001B[43m(\u001B[49m\u001B[43mu\u001B[49m\u001B[43m,\u001B[49m\u001B[43mp\u001B[49m\u001B[43m)\u001B[49m\u001B[43m)\u001B[49m\n\u001B[0;32m     16\u001B[0m result \u001B[38;5;241m=\u001B[39m c\u001B[38;5;241m.\u001B[39mfetchone()\n\u001B[0;32m     17\u001B[0m \u001B[38;5;28;01mif\u001B[39;00m(result):\n",
      "\u001B[1;31mOperationalError\u001B[0m: no such table: users"
     ]
    }
   ],
   "source": [
    "import sqlite3\n",
    "conn = sqlite3.connect(\"users.db\")\n",
    "\n",
    "# query = \"CREATE TABLE users (username TEXT, password TEXT)\"\n",
    "u = input(\"please enter your username...\")\n",
    "p = input(\"please enter your password...\")\n",
    "c = conn.cursor()\n",
    "\n",
    "# THE BAD WAY!\n",
    "# query = f\"SELECT * FROM users WHERE username='{u}' AND password = '{p}'\"\n",
    "\n",
    "# THE MUCH SAFER WAY\n",
    "query = f\"SELECT * FROM users WHERE username=? AND password =?\"\n",
    "c.execute(query,(u,p))\n",
    "\n",
    "result = c.fetchone()\n",
    "if(result):\n",
    "    print(\"WELCOME BACK\")\n",
    "else:\n",
    "    print(\"FAILED LOGIN\")\n",
    "\n",
    "conn.commit()\n",
    "conn.close()\n"
   ],
   "metadata": {
    "collapsed": false,
    "pycharm": {
     "name": "#%%\n"
    }
   }
  },
  {
   "cell_type": "code",
   "execution_count": null,
   "outputs": [],
   "source": [
    "\n",
    "# sqlite3 friends.db\n",
    "# quit,  ctrl C"
   ],
   "metadata": {
    "collapsed": false,
    "pycharm": {
     "name": "#%%\n"
    }
   }
  }
 ],
 "metadata": {
  "kernelspec": {
   "display_name": "Python 3",
   "language": "python",
   "name": "python3"
  },
  "language_info": {
   "codemirror_mode": {
    "name": "ipython",
    "version": 2
   },
   "file_extension": ".py",
   "mimetype": "text/x-python",
   "name": "python",
   "nbconvert_exporter": "python",
   "pygments_lexer": "ipython2",
   "version": "2.7.6"
  }
 },
 "nbformat": 4,
 "nbformat_minor": 0
}