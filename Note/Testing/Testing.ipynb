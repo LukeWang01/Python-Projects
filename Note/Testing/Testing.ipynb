{
 "cells": [
  {
   "cell_type": "markdown",
   "source": [
    "Assertions\n",
    "\n",
    "make simple assertions with the assert keyword\n",
    "\n",
    "-o flag will ignore all assertions.\n"
   ],
   "metadata": {
    "collapsed": false
   }
  },
  {
   "cell_type": "code",
   "execution_count": 1,
   "metadata": {
    "collapsed": true
   },
   "outputs": [
    {
     "ename": "AssertionError",
     "evalue": "Both should be positive",
     "output_type": "error",
     "traceback": [
      "\u001B[1;31m---------------------------------------------------------------------------\u001B[0m",
      "\u001B[1;31mAssertionError\u001B[0m                            Traceback (most recent call last)",
      "Input \u001B[1;32mIn [1]\u001B[0m, in \u001B[0;36m<module>\u001B[1;34m\u001B[0m\n\u001B[0;32m      4\u001B[0m     \u001B[38;5;28;01massert\u001B[39;00m x \u001B[38;5;241m>\u001B[39m \u001B[38;5;241m0\u001B[39m \u001B[38;5;129;01mand\u001B[39;00m y \u001B[38;5;241m>\u001B[39m \u001B[38;5;241m0\u001B[39m, \u001B[38;5;124m'\u001B[39m\u001B[38;5;124mBoth should be positive\u001B[39m\u001B[38;5;124m'\u001B[39m\n\u001B[0;32m      5\u001B[0m     \u001B[38;5;28;01mreturn\u001B[39;00m x \u001B[38;5;241m+\u001B[39m y\n\u001B[1;32m----> 7\u001B[0m \u001B[43madd_positive_numbers\u001B[49m\u001B[43m(\u001B[49m\u001B[38;5;241;43m-\u001B[39;49m\u001B[38;5;241;43m1\u001B[39;49m\u001B[43m,\u001B[49m\u001B[43m \u001B[49m\u001B[38;5;241;43m1\u001B[39;49m\u001B[43m)\u001B[49m\n\u001B[0;32m      8\u001B[0m add_positive_numbers(\u001B[38;5;241m2\u001B[39m, \u001B[38;5;241m1\u001B[39m)\n",
      "Input \u001B[1;32mIn [1]\u001B[0m, in \u001B[0;36madd_positive_numbers\u001B[1;34m(x, y)\u001B[0m\n\u001B[0;32m      1\u001B[0m \u001B[38;5;28;01mdef\u001B[39;00m \u001B[38;5;21madd_positive_numbers\u001B[39m(x, y):\n\u001B[0;32m      2\u001B[0m     \u001B[38;5;66;03m# assert statement:\u001B[39;00m\n\u001B[0;32m      3\u001B[0m     \u001B[38;5;66;03m# if not .... then raise AssertionError\u001B[39;00m\n\u001B[1;32m----> 4\u001B[0m     \u001B[38;5;28;01massert\u001B[39;00m x \u001B[38;5;241m>\u001B[39m \u001B[38;5;241m0\u001B[39m \u001B[38;5;129;01mand\u001B[39;00m y \u001B[38;5;241m>\u001B[39m \u001B[38;5;241m0\u001B[39m, \u001B[38;5;124m'\u001B[39m\u001B[38;5;124mBoth should be positive\u001B[39m\u001B[38;5;124m'\u001B[39m\n\u001B[0;32m      5\u001B[0m     \u001B[38;5;28;01mreturn\u001B[39;00m x \u001B[38;5;241m+\u001B[39m y\n",
      "\u001B[1;31mAssertionError\u001B[0m: Both should be positive"
     ]
    }
   ],
   "source": [
    "def add_positive_numbers(x, y):\n",
    "    # assert statement:\n",
    "    # if not .... then raise AssertionError\n",
    "    assert x > 0 and y > 0, 'Both should be positive'\n",
    "    return x + y\n",
    "add_positive_numbers(-1, 1)"
   ]
  },
  {
   "cell_type": "code",
   "execution_count": 2,
   "outputs": [
    {
     "data": {
      "text/plain": "3"
     },
     "execution_count": 2,
     "metadata": {},
     "output_type": "execute_result"
    }
   ],
   "source": [
    "add_positive_numbers(2, 1)"
   ],
   "metadata": {
    "collapsed": false,
    "pycharm": {
     "name": "#%%\n"
    }
   }
  },
  {
   "cell_type": "code",
   "execution_count": null,
   "outputs": [],
   "source": [
    "# doctest:\n",
    "\n",
    "def add_test(a, b):\n",
    "    \"\"\" add value a and b\n",
    "    >>> add_test(2 ,3)\n",
    "    5\n",
    "    >>> add_test(3, 5)\n",
    "    8\n",
    "    \"\"\"\n",
    "\n"
   ],
   "metadata": {
    "collapsed": false,
    "pycharm": {
     "name": "#%%\n"
    }
   }
  }
 ],
 "metadata": {
  "kernelspec": {
   "display_name": "Python 3",
   "language": "python",
   "name": "python3"
  },
  "language_info": {
   "codemirror_mode": {
    "name": "ipython",
    "version": 2
   },
   "file_extension": ".py",
   "mimetype": "text/x-python",
   "name": "python",
   "nbconvert_exporter": "python",
   "pygments_lexer": "ipython2",
   "version": "2.7.6"
  }
 },
 "nbformat": 4,
 "nbformat_minor": 0
}