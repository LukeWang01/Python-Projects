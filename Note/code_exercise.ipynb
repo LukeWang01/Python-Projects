{
 "cells": [
  {
   "cell_type": "code",
   "execution_count": 4,
   "metadata": {
    "collapsed": true
   },
   "outputs": [
    {
     "name": "stdout",
     "output_type": "stream",
     "text": [
      "3973464935797.5977\n"
     ]
    }
   ],
   "source": [
    "cash = 19867324678987.99  # DON'T CHANGE THE CASH VARIABLE\n",
    "\n",
    "# ADD YOUR CODE BELOW:\n",
    "print(cash/5)\n",
    "\n",
    "# Define a variable named city and set it equal to any string\n",
    "city = 'wow'\n",
    "# Define a variable named price and set it equal to any float\n",
    "price = 1.2\n",
    "# Define a variable named high_score and set it equal to any int\n",
    "high_score = 10\n",
    "# Define a variable named is_having_fun and set it to a Boolean value\n",
    "is_having_fun = True"
   ]
  },
  {
   "cell_type": "code",
   "execution_count": 5,
   "outputs": [],
   "source": [
    " # Set the message variable equal to any string containing a new-line escape sequence\n",
    "message = \"fdsfd\\nsdfa\"\n",
    "\n",
    "\n",
    "# Add a string to the mountains variable that when printed results in: /\\/\\/\\\n",
    "# You will need to use an escape sequence more than once!\n",
    "mountains = \"/\\/\\/\\\\\"\n",
    "\n",
    "\n",
    "# Set the quotation variable to any string that contains an escaped double quotation mark\n",
    "\n",
    "quotation = \"\\\"\\\"\""
   ],
   "metadata": {
    "collapsed": false,
    "pycharm": {
     "name": "#%%\n"
    }
   }
  },
  {
   "cell_type": "code",
   "execution_count": 6,
   "outputs": [
    {
     "name": "stdout",
     "output_type": "stream",
     "text": [
      "First Name: luke, Last Name: wang\n",
      "First Name: luke, Last Name: wang\n"
     ]
    }
   ],
   "source": [
    "first = \"luke\"\n",
    "last = \"wang\"\n",
    "\n",
    "formatted = \"First Name: {}, Last Name: {}\".format(first, last)\n",
    "# f string:\n",
    "\n",
    "formatted2 = f\"First Name: {first}, Last Name: {last}\"\n",
    "\n",
    "print(formatted)\n",
    "print(formatted2)"
   ],
   "metadata": {
    "collapsed": false,
    "pycharm": {
     "name": "#%%\n"
    }
   }
  },
  {
   "cell_type": "code",
   "execution_count": 7,
   "outputs": [
    {
     "name": "stdout",
     "output_type": "stream",
     "text": [
      "unlucky\n"
     ]
    }
   ],
   "source": [
    "# NO TOUCHING PLEASE---------------\n",
    "from random import randint\n",
    "choice = randint(1,10)\n",
    "# NO TOUCHING PLEASE---------------\n",
    "\n",
    "# YOUR CODE GOES HERE:\n",
    "if choice == 7:\n",
    "    print(\"lucky\")\n",
    "else:\n",
    "    print(\"unlucky\")"
   ],
   "metadata": {
    "collapsed": false,
    "pycharm": {
     "name": "#%%\n"
    }
   }
  },
  {
   "cell_type": "code",
   "execution_count": 8,
   "outputs": [
    {
     "name": "stdout",
     "output_type": "stream",
     "text": [
      "odd\n"
     ]
    }
   ],
   "source": [
    "# NO TOUCHING ======================================\n",
    "from random import randint\n",
    "num = randint(1, 1000) #picks random number from 1-1000\n",
    "# NO TOUCHING ======================================\n",
    "\n",
    "\n",
    "\n",
    "# YOUR CODE GOES HERE vvvvvvvvvvvvvvvvvvvvvvvvvvvvvvv\n",
    "if num % 2 == 0:\n",
    "    print(\"even\")\n",
    "else:\n",
    "    print(\"odd\")"
   ],
   "metadata": {
    "collapsed": false,
    "pycharm": {
     "name": "#%%\n"
    }
   }
  },
  {
   "cell_type": "code",
   "execution_count": 9,
   "outputs": [
    {
     "name": "stdout",
     "output_type": "stream",
     "text": [
      "meat\n"
     ]
    }
   ],
   "source": [
    "# NO TOUCHING ============================================\n",
    "from random import choice\n",
    "food = choice(['apple','grape', 'bacon', 'steak', 'worm', 'dirt'])\n",
    "# NO TOUCHING =============================================\n",
    "\n",
    "\n",
    "# YOUR CODE GOES HERE vvvvvvvvvvvvvvvvvvvvvvvvvvvvvvv\n",
    "if food == 'apple' or food == 'grape':\n",
    "    print (\"fruit\")\n",
    "elif food == 'bacon' or food == 'steak':\n",
    "    print(\"meat\")\n",
    "else:\n",
    "    print(\"yuck\")"
   ],
   "metadata": {
    "collapsed": false,
    "pycharm": {
     "name": "#%%\n"
    }
   }
  },
  {
   "cell_type": "code",
   "execution_count": 10,
   "outputs": [
    {
     "name": "stdout",
     "output_type": "stream",
     "text": [
      "y is positive and x is negative\n"
     ]
    }
   ],
   "source": [
    "# NO TOUCHING==NO TOUCHING==NO TOUCHING==NO TOUCHING #| \\\n",
    "from random import randint                           #|  \\\n",
    "x = randint(-100, 100)                               #|   \\\n",
    "while x == 0:  # make sure x isn't zero              #|    \\\n",
    "    x = randint(-100, 100)                           #|     NO TOUCHING!!!!!! (please)\n",
    "y = randint(-100, 100)                               #|    /\n",
    "while y == 0:  # make sure y isn't zero              #|   /\n",
    "    y = randint(-100, 100)                           #|  /\n",
    "# NO TOUCHING==NO TOUCHING==NO TOUCHING==NO TOUCHING #| /\n",
    "\n",
    "\n",
    "\n",
    "# Don't change the print statements so the tests can pass!\n",
    "# YOUR CODE GOES HERE vvvvvvvvvvvvvvvvvvvvvvvvvvvvvvv\n",
    "\n",
    "if x > 0 and y > 0:\n",
    "    print(\"both positive\")\n",
    "elif x < 0 and y < 0:\n",
    "    print(\"both negative\")\n",
    "elif x < 0 and y > 0:\n",
    "    print(\"y is positive and x is negative\")\n",
    "elif x > 0 and y < 0:\n",
    "    print(\"x is positive and y is negative\")\n",
    "\n"
   ],
   "metadata": {
    "collapsed": false,
    "pycharm": {
     "name": "#%%\n"
    }
   }
  },
  {
   "cell_type": "code",
   "execution_count": 11,
   "outputs": [],
   "source": [
    "# NO TOUCHING ======================================\n",
    "\n",
    "from random import choice, randint\n",
    "\n",
    "# randomly assigns values to these four variables\n",
    "actually_sick = choice([True, False])\n",
    "kinda_sick = choice([True, False])\n",
    "hate_your_job = choice([True, False])\n",
    "sick_days = randint(0, 10)\n",
    "\n",
    "# NO TOUCHING ======================================\n",
    "\n",
    "\n",
    "calling_in_sick = None  # set this to True or False with Boolean Logic and Conditionals!\n",
    "\n",
    "# YOUR CODE GOES HERE vvvvvvvvvvvvvvvvvvvvvvvvvvvvvvv\n",
    "\n",
    "if actually_sick and sick_days > 0:\n",
    "    calling_in_sick = True\n",
    "elif kinda_sick and hate_your_job and sick_days > 0:\n",
    "    calling_in_sick = True\n",
    "else:\n",
    "    calling_in_sick = False\n",
    "\n",
    "# YOUR CODE GOES HERE ^^^^^^^^^^^^^^^^^^^^^^^^^^^^^^^\n"
   ],
   "metadata": {
    "collapsed": false,
    "pycharm": {
     "name": "#%%\n"
    }
   }
  },
  {
   "cell_type": "code",
   "execution_count": 12,
   "outputs": [],
   "source": [
    "# Add up all odd numbers between 10 and 20\n",
    "# Store the result in x:\n",
    "x = 0\n",
    "m = range(10, 20)\n",
    "for i in m:\n",
    "    if i % 2 != 0:\n",
    "        x += i"
   ],
   "metadata": {
    "collapsed": false,
    "pycharm": {
     "name": "#%%\n"
    }
   }
  },
  {
   "cell_type": "code",
   "execution_count": 13,
   "outputs": [],
   "source": [
    "from random import randint  # use randint(a, b) to generate a random number between a and b\n",
    "\n",
    "number = 0 #store random number in here, each time through\n",
    "i = 0  # i should be incremented by one each iteration\n",
    "\n",
    "while number != 5: #keep looping while number is not 5\n",
    "    i += 1\n",
    "    number = randint(1, 10) #update number to be a new random int from 1-10"
   ],
   "metadata": {
    "collapsed": false,
    "pycharm": {
     "name": "#%%\n"
    }
   }
  },
  {
   "cell_type": "code",
   "execution_count": 14,
   "outputs": [],
   "source": [
    "# Create a list called instructors\n",
    "instructors = []\n",
    "# Add the following strings to the instructors list\n",
    "    # \"Colt\"\n",
    "    # \"Blue\"\n",
    "    # \"Lisa\"\n",
    "instructors = [\"Colt\", \"Blue\", \"Lisa\"]\n",
    "# Remove the last value in the list\n",
    "instructors.pop(-1)\n",
    "# Remove the first value in the list\n",
    "instructors.pop(0)\n",
    "# Add the string \"Done\" to the beginning of the list\n",
    "instructors.insert(0, 'Done')\n",
    "# Run the tests to make sure you've done this correctly!"
   ],
   "metadata": {
    "collapsed": false,
    "pycharm": {
     "name": "#%%\n"
    }
   }
  },
  {
   "cell_type": "code",
   "execution_count": 15,
   "outputs": [],
   "source": [
    "answer = [person[0] for person in [\"Elie\", \"Tim\", \"Matt\"]]\n",
    "\n",
    "answer2 = [val for val in [1,2,3,4,5,6] if val % 2 == 0]"
   ],
   "metadata": {
    "collapsed": false,
    "pycharm": {
     "name": "#%%\n"
    }
   }
  },
  {
   "cell_type": "code",
   "execution_count": 16,
   "outputs": [],
   "source": [
    "answer = [val for val in [1,2,3,4] if val in [3,4,5,6]]\n",
    "\n",
    "answer2 = [val[::-1].lower() for val in [\"Elie\", \"Tim\", \"Matt\"]]"
   ],
   "metadata": {
    "collapsed": false,
    "pycharm": {
     "name": "#%%\n"
    }
   }
  },
  {
   "cell_type": "code",
   "execution_count": 17,
   "outputs": [],
   "source": [
    "answer = [val for val in range(1,101) if val % 12 == 0]"
   ],
   "metadata": {
    "collapsed": false,
    "pycharm": {
     "name": "#%%\n"
    }
   }
  },
  {
   "cell_type": "code",
   "execution_count": 18,
   "outputs": [],
   "source": [
    "answer = [char for char in \"amazing\" if char not in \"aeiou\"]\n"
   ],
   "metadata": {
    "collapsed": false,
    "pycharm": {
     "name": "#%%\n"
    }
   }
  },
  {
   "cell_type": "code",
   "execution_count": 19,
   "outputs": [],
   "source": [
    "answer = [[i for i in range(0,3)] for num in range(0,3)]"
   ],
   "metadata": {
    "collapsed": false,
    "pycharm": {
     "name": "#%%\n"
    }
   }
  },
  {
   "cell_type": "code",
   "execution_count": 20,
   "outputs": [],
   "source": [
    "answer = [[i for i in range(0,10)] for j in range(0,10)]"
   ],
   "metadata": {
    "collapsed": false,
    "pycharm": {
     "name": "#%%\n"
    }
   }
  },
  {
   "cell_type": "code",
   "execution_count": 21,
   "outputs": [
    {
     "name": "stdout",
     "output_type": "stream",
     "text": [
      "We don't make that\n"
     ]
    }
   ],
   "source": [
    "# This code picks a random food item:\n",
    "from random import choice #DON'T CHANGE!\n",
    "food = choice([\"cheese pizza\", \"quiche\",\"morning bun\",\"gummy bear\",\"tea cake\"]) #DON'T CHANGE!\n",
    "\n",
    "#DON'T CHANGE THIS DICTIONARY EITHER!\n",
    "bakery_stock = {\n",
    "    \"almond croissant\" : 12,\n",
    "    \"toffee cookie\": 3,\n",
    "    \"morning bun\": 1,\n",
    "    \"chocolate chunk cookie\": 9,\n",
    "    \"tea cake\": 25\n",
    "}\n",
    "\n",
    "# YOUR CODE GOES BELOW:\n",
    "if food in bakery_stock:\n",
    "    print(\"{} left\".format(bakery_stock[food]))\n",
    "else:\n",
    "    print(\"We don't make that\")\n",
    "\n"
   ],
   "metadata": {
    "collapsed": false,
    "pycharm": {
     "name": "#%%\n"
    }
   }
  },
  {
   "cell_type": "code",
   "execution_count": 22,
   "outputs": [],
   "source": [
    "#DO NOT TOUCH game_properties!\n",
    "game_properties = [\"current_score\", \"high_score\", \"number_of_lives\", \"items_in_inventory\", \"power_ups\", \"ammo\", \"enemies_on_screen\", \"enemy_kills\", \"enemy_kill_streaks\", \"minutes_played\", \"notifications\", \"achievements\"]\n",
    "\n",
    "# Use the game_properties list and dict.fromkeys() to generate a dictionary with all values set to 0. Save the result to a variable called initial_game_state\n",
    "initial_game_state = dict.fromkeys(game_properties, 0)"
   ],
   "metadata": {
    "collapsed": false,
    "pycharm": {
     "name": "#%%\n"
    }
   }
  },
  {
   "cell_type": "code",
   "execution_count": 23,
   "outputs": [
    {
     "data": {
      "text/plain": "1"
     },
     "execution_count": 23,
     "metadata": {},
     "output_type": "execute_result"
    }
   ],
   "source": [
    "inventory = {'croissant': 19, 'bagel': 4, 'muffin': 8, 'cake': 1} #DON'T CHANGE THIS LINE!\n",
    "\n",
    "# Make a copy of inventory and save it to a variable called stock_list USE A DICTIONARY METHOD\n",
    "stock_list = inventory.copy()\n",
    "\n",
    "\n",
    "# add the value 18 to stock_list under the key \"cookie\"\n",
    "stock_list[\"cookie\"] = 18\n",
    "\n",
    "\n",
    "# remove 'cake' from stock_list USE A DICTIONARY METHOD\n",
    "stock_list.pop('cake')"
   ],
   "metadata": {
    "collapsed": false,
    "pycharm": {
     "name": "#%%\n"
    }
   }
  },
  {
   "cell_type": "code",
   "execution_count": 24,
   "outputs": [],
   "source": [
    "# 1 - Create a variable called numbers = (1,2,3,4 which is a tuple with the the values 1, 2, 3 and 4 inside.\n",
    "numbers = (1,2,3,4)\n",
    "\n",
    "# 2 - Create a variable called value which is a tuple with the the value 1 inside.\n",
    "value = (1,)\n",
    "\n",
    "# 3 - Given the following variable:\n",
    "\n",
    "values = [10,20,30]\n",
    "\n",
    "# Create a variable called static_values which is the result of the values variable converted to a tuple\n",
    "static_values = tuple(values)\n",
    "\n",
    "# 4 - Given the following variable\n",
    "\n",
    "stuff = [1,3,1,5,2,5,1,2,5]\n",
    "\n",
    "# Create a variable called unique_stuff which is a set of only the unique values in the stuff list\n",
    "unique_stuff = set(stuff)"
   ],
   "metadata": {
    "collapsed": false,
    "pycharm": {
     "name": "#%%\n"
    }
   }
  },
  {
   "cell_type": "code",
   "execution_count": 24,
   "outputs": [],
   "source": [],
   "metadata": {
    "collapsed": false,
    "pycharm": {
     "name": "#%%\n"
    }
   }
  },
  {
   "cell_type": "code",
   "execution_count": 24,
   "outputs": [],
   "source": [],
   "metadata": {
    "collapsed": false,
    "pycharm": {
     "name": "#%%\n"
    }
   }
  },
  {
   "cell_type": "code",
   "execution_count": 24,
   "outputs": [],
   "source": [],
   "metadata": {
    "collapsed": false,
    "pycharm": {
     "name": "#%%\n"
    }
   }
  },
  {
   "cell_type": "code",
   "execution_count": 24,
   "outputs": [],
   "source": [],
   "metadata": {
    "collapsed": false,
    "pycharm": {
     "name": "#%%\n"
    }
   }
  }
 ],
 "metadata": {
  "kernelspec": {
   "display_name": "Python 3",
   "language": "python",
   "name": "python3"
  },
  "language_info": {
   "codemirror_mode": {
    "name": "ipython",
    "version": 2
   },
   "file_extension": ".py",
   "mimetype": "text/x-python",
   "name": "python",
   "nbconvert_exporter": "python",
   "pygments_lexer": "ipython2",
   "version": "2.7.6"
  }
 },
 "nbformat": 4,
 "nbformat_minor": 0
}