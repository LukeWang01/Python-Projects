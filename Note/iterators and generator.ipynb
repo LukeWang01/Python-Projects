{
 "cells": [
  {
   "cell_type": "markdown",
   "metadata": {
    "collapsed": true,
    "pycharm": {
     "name": "#%% md\n"
    }
   },
   "source": [
    "# iterators and generator"
   ]
  },
  {
   "cell_type": "code",
   "execution_count": 2,
   "outputs": [
    {
     "name": "stdout",
     "output_type": "stream",
     "text": [
      "1\n",
      "2\n",
      "3\n",
      "4\n",
      "5\n",
      "6\n",
      "1\n",
      "4\n",
      "9\n",
      "16\n",
      "25\n",
      "36\n"
     ]
    }
   ],
   "source": [
    "# iterators and generator\n",
    "\n",
    "def my_for(iterable, fun):\n",
    "    iterator = iter(iterable)\n",
    "    while True:\n",
    "        try:\n",
    "            thing = next(iterator)\n",
    "        except StopIteration:\n",
    "            break\n",
    "        else:\n",
    "            fun(thing)\n",
    "\n",
    "def square(x):\n",
    "    print(x**2)\n",
    "\n",
    "my_for([1,2,3,4,5,6], print)\n",
    "my_for([1,2,3,4,5,6], square)"
   ],
   "metadata": {
    "collapsed": false,
    "pycharm": {
     "name": "#%%\n"
    }
   }
  },
  {
   "cell_type": "code",
   "execution_count": 4,
   "outputs": [
    {
     "name": "stdout",
     "output_type": "stream",
     "text": [
      "10\n",
      "11\n",
      "12\n",
      "13\n",
      "14\n"
     ]
    }
   ],
   "source": [
    "class Counter:\n",
    "    def __init__(self, low, high):\n",
    "        self.low = low\n",
    "        self.high = high\n",
    "\n",
    "    def __iter__(self):\n",
    "        return self\n",
    "\n",
    "    def __next__(self):\n",
    "        if self.low < self.high:\n",
    "            num = self.low\n",
    "            self.low += 1\n",
    "            return num\n",
    "        raise StopIteration\n",
    "\n",
    "\n",
    "for x in Counter(10, 15):\n",
    "    print(x)"
   ],
   "metadata": {
    "collapsed": false,
    "pycharm": {
     "name": "#%%\n"
    }
   }
  },
  {
   "cell_type": "code",
   "execution_count": 10,
   "outputs": [
    {
     "name": "stdout",
     "output_type": "stream",
     "text": [
      "<generator object count_up_to at 0x000002330AFF91C0>\n",
      "1\n",
      "2\n",
      "3\n",
      "4\n",
      "5\n"
     ]
    }
   ],
   "source": [
    "# Generators:\n",
    "def count_up_to(max):\n",
    "    count = 1\n",
    "    while count <= max:\n",
    "        yield count\n",
    "        count += 1\n",
    "\n",
    "gen = count_up_to(5)\n",
    "print(gen)\n",
    "# next(gen)\n",
    "# next(gen)\n",
    "\n",
    "\n",
    "# save the memory\n",
    "for num in gen:\n",
    "    print(num)"
   ],
   "metadata": {
    "collapsed": false,
    "pycharm": {
     "name": "#%%\n"
    }
   }
  },
  {
   "cell_type": "code",
   "execution_count": null,
   "outputs": [],
   "source": [
    "'''\n",
    "days = week()\n",
    "next(days) # 'Monday'\n",
    "next(days) # 'Tuesday'\n",
    "next(days) # 'Wednesday'\n",
    "next(days) # 'Thursday'\n",
    "next(days) # 'Friday'\n",
    "next(days) # 'Saturday'\n",
    "next(days) # 'Sunday'\n",
    "next(days) # StopIteration\n",
    "'''\n",
    "\n",
    "def week():\n",
    "    weeks = ['Monday', 'Tuesday', 'Wednesday', 'Thursday', 'Friday', 'Saturday', 'Sunday']\n",
    "    count = 0\n",
    "    while count <= 6:\n",
    "        yield weeks[count]\n",
    "        count += 1\n",
    "    if count > 6:\n",
    "        raise StopIteration\n",
    "\n",
    "def week_R1():\n",
    "    days = [\n",
    "        \"Monday\",\n",
    "        \"Tuesday\",\n",
    "        \"Wednesday\",\n",
    "        \"Thursday\",\n",
    "        \"Friday\",\n",
    "        \"Saturday\",\n",
    "        \"Sunday\"\n",
    "    ]\n",
    "    for day in days:\n",
    "        yield day\n",
    "\n"
   ],
   "metadata": {
    "collapsed": false,
    "pycharm": {
     "name": "#%%\n"
    }
   }
  },
  {
   "cell_type": "code",
   "execution_count": 15,
   "outputs": [],
   "source": [
    "'''\n",
    "gen = yes_or_no()\n",
    "next(gen) # 'yes'\n",
    "next(gen) # 'no'\n",
    "next(gen) # 'yes'\n",
    "next(gen) # 'no'\n",
    "'''\n",
    "\n",
    "def yes_or_no():\n",
    "    y = 'yes'\n",
    "    n = 'no'\n",
    "    i = 0\n",
    "\n",
    "    while True:\n",
    "        if i%2 == 0:\n",
    "            yield y\n",
    "        else:\n",
    "            yield n\n",
    "\n",
    "        i += 1\n",
    "\n",
    "def yes_or_no_R2():\n",
    "    answer = \"yes\"\n",
    "    while True:\n",
    "        yield answer\n",
    "        answer = \"no\" if answer == \"yes\" else \"yes\"\n",
    "\n"
   ],
   "metadata": {
    "collapsed": false,
    "pycharm": {
     "name": "#%%\n"
    }
   }
  },
  {
   "cell_type": "code",
   "execution_count": 19,
   "outputs": [
    {
     "data": {
      "text/plain": "1"
     },
     "execution_count": 19,
     "metadata": {},
     "output_type": "execute_result"
    }
   ],
   "source": [
    "def current_beat():\n",
    "    nums = (1,2,3,4)\n",
    "    i = 0\n",
    "    while True:\n",
    "        if i >= len(nums): i = 0\n",
    "        yield nums[i]\n",
    "        i += 1\n",
    "beat = current_beat()"
   ],
   "metadata": {
    "collapsed": false,
    "pycharm": {
     "name": "#%%\n"
    }
   }
  },
  {
   "cell_type": "code",
   "execution_count": 37,
   "outputs": [
    {
     "data": {
      "text/plain": "3"
     },
     "execution_count": 37,
     "metadata": {},
     "output_type": "execute_result"
    }
   ],
   "source": [
    "next(beat)"
   ],
   "metadata": {
    "collapsed": false,
    "pycharm": {
     "name": "#%%\n"
    }
   }
  },
  {
   "cell_type": "code",
   "execution_count": 53,
   "outputs": [],
   "source": [
    "def make_song(nums, beverage):\n",
    "    i = nums\n",
    "\n",
    "    while True:\n",
    "        if i == -1 :\n",
    "            raise StopIteration\n",
    "\n",
    "        elif i == 1:\n",
    "            answer = f'Only 1 bottle of {beverage} left!'\n",
    "            yield answer\n",
    "            i -= 1\n",
    "\n",
    "        else:\n",
    "            answer = f'{i} bottles of {beverage} on the wall.'\n",
    "            yield answer\n",
    "            i -= 1\n",
    "kombucha_song = make_song(5, \"kombucha\")"
   ],
   "metadata": {
    "collapsed": false,
    "pycharm": {
     "name": "#%%\n"
    }
   }
  },
  {
   "cell_type": "code",
   "execution_count": 56,
   "outputs": [
    {
     "data": {
      "text/plain": "'3 bottles of kombucha on the wall.'"
     },
     "execution_count": 56,
     "metadata": {},
     "output_type": "execute_result"
    }
   ],
   "source": [
    "next(kombucha_song)"
   ],
   "metadata": {
    "collapsed": false,
    "pycharm": {
     "name": "#%%\n"
    }
   }
  },
  {
   "cell_type": "code",
   "execution_count": 59,
   "outputs": [
    {
     "name": "stdout",
     "output_type": "stream",
     "text": [
      "0\n",
      "1\n",
      "1\n",
      "2\n",
      "3\n",
      "5\n",
      "8\n",
      "13\n",
      "21\n",
      "34\n"
     ]
    }
   ],
   "source": [
    "def fib_gen(max):\n",
    "    x = 0\n",
    "    y = 1\n",
    "    count = 0\n",
    "    if count == 0:\n",
    "        yield x\n",
    "        count += 1\n",
    "    while count < max:\n",
    "        x, y = y, x + y\n",
    "        yield x\n",
    "        count += 1\n",
    "\n",
    "fib = fib_gen(10)\n",
    "\n",
    "for i in fib:\n",
    "    print(i)"
   ],
   "metadata": {
    "collapsed": false,
    "pycharm": {
     "name": "#%%\n"
    }
   }
  },
  {
   "cell_type": "code",
   "execution_count": null,
   "outputs": [],
   "source": [
    "# Generator expressions:\n",
    "\n",
    "g = (num for mun in range(1,10))\n"
   ],
   "metadata": {
    "collapsed": false,
    "pycharm": {
     "name": "#%%\n"
    }
   }
  }
 ],
 "metadata": {
  "kernelspec": {
   "display_name": "Python 3",
   "language": "python",
   "name": "python3"
  },
  "language_info": {
   "codemirror_mode": {
    "name": "ipython",
    "version": 2
   },
   "file_extension": ".py",
   "mimetype": "text/x-python",
   "name": "python",
   "nbconvert_exporter": "python",
   "pygments_lexer": "ipython2",
   "version": "2.7.6"
  }
 },
 "nbformat": 4,
 "nbformat_minor": 0
}