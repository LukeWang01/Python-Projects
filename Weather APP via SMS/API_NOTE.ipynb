{
 "cells": [
  {
   "cell_type": "code",
   "metadata": {
    "collapsed": true,
    "pycharm": {
     "name": "#%%\n"
    }
   },
   "source": [
    "import datetime as dt\n",
    "import random\n",
    "import smtplib\n",
    "\n",
    "now = dt.datetime.now()\n",
    "year = now.year\n",
    "day_of_week = now.weekday()\n",
    "print(day_of_week)\n",
    "\n",
    "date_of_birth = dt.datetime(year=1994, month=8, day=8) #hour has default value\n",
    "\n",
    "print(date_of_birth)\n"
   ],
   "execution_count": 6,
   "outputs": [
    {
     "name": "stdout",
     "output_type": "stream",
     "text": [
      "3\n",
      "1994-08-08 00:00:00\n"
     ]
    }
   ]
  },
  {
   "cell_type": "code",
   "execution_count": null,
   "outputs": [],
   "source": [
    "with open(\"\") as quote_file:\n",
    "    all = quote_file.readlines() # readlines will read all lines as a list, hint will be an int\n",
    "    quote = random.choice(all)"
   ],
   "metadata": {
    "collapsed": false,
    "pycharm": {
     "name": "#%%\n"
    }
   }
  },
  {
   "cell_type": "code",
   "execution_count": null,
   "outputs": [],
   "source": [
    "with smtplib.SMTP(\"smtp.gmail.com\") as connection:\n",
    "    connection.starttls()\n",
    "    connection.login()\n",
    "    connection.sendmail(from_addr=\"\",\n",
    "                        to_addrs=\"\",\n",
    "                        msg=\"\")\n"
   ],
   "metadata": {
    "collapsed": false,
    "pycharm": {
     "name": "#%%\n"
    }
   }
  },
  {
   "cell_type": "code",
   "execution_count": null,
   "outputs": [],
   "source": [
    "import requests\n",
    "\n",
    "URL = \"https://opentdb.com/api.php\""
   ],
   "metadata": {
    "collapsed": false,
    "pycharm": {
     "name": "#%%\n"
    }
   }
  },
  {
   "cell_type": "code",
   "execution_count": 7,
   "outputs": [
    {
     "ename": "IndentationError",
     "evalue": "expected an indented block after function definition on line 3 (937047045.py, line 3)",
     "output_type": "error",
     "traceback": [
      "\u001B[0;36m  File \u001B[0;32m\"/var/folders/hc/pzkn3x0j72d7yv0schw_dx5c0000gn/T/ipykernel_38924/937047045.py\"\u001B[0;36m, line \u001B[0;32m3\u001B[0m\n\u001B[0;31m    def police_check(age: int):\u001B[0m\n\u001B[0m                               ^\u001B[0m\n\u001B[0;31mIndentationError\u001B[0m\u001B[0;31m:\u001B[0m expected an indented block after function definition on line 3\n"
     ]
    }
   ],
   "source": [
    "#age: int # define the datatype\n",
    "\n",
    "# type hints\n",
    "def test(age: int) -> bool:\n",
    "    if age > 18:\n",
    "        return True\n",
    "\n",
    "test(\"wef\")\n",
    "test(18)\n"
   ],
   "metadata": {
    "collapsed": false,
    "pycharm": {
     "name": "#%%\n"
    }
   }
  },
  {
   "cell_type": "code",
   "execution_count": null,
   "outputs": [],
   "source": [
    "button.config(state=\"disable\")"
   ],
   "metadata": {
    "collapsed": false,
    "pycharm": {
     "name": "#%%\n"
    }
   }
  },
  {
   "cell_type": "code",
   "execution_count": null,
   "outputs": [],
   "source": [],
   "metadata": {
    "collapsed": false,
    "pycharm": {
     "name": "#%%\n"
    }
   }
  }
 ],
 "metadata": {
  "kernelspec": {
   "display_name": "Python 3",
   "language": "python",
   "name": "python3"
  },
  "language_info": {
   "codemirror_mode": {
    "name": "ipython",
    "version": 2
   },
   "file_extension": ".py",
   "mimetype": "text/x-python",
   "name": "python",
   "nbconvert_exporter": "python",
   "pygments_lexer": "ipython2",
   "version": "2.7.6"
  }
 },
 "nbformat": 4,
 "nbformat_minor": 0
}